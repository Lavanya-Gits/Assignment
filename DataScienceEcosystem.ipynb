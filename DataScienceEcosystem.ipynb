{
 "cells": [
  {
   "cell_type": "markdown",
   "id": "1f87cbde-c039-4738-9852-2272c834cc33",
   "metadata": {},
   "source": [
    "# Data Science Tools and Ecosystem "
   ]
  },
  {
   "cell_type": "markdown",
   "id": "bfb54652-6d76-459f-a516-091ae3208e8f",
   "metadata": {},
   "source": [
    "In this notebook, Data Science Tools and Ecosystem are summarized."
   ]
  },
  {
   "cell_type": "markdown",
   "id": "4262a9d5-9663-4df4-81a9-b309ef9f39a0",
   "metadata": {},
   "source": [
    "Some of the popular languages that Data Scientists use are:\n",
    "\n",
    "1. Python\n",
    "2. R\n",
    "3. SQL\n",
    "4. Julia\n",
    "5. Scala"
   ]
  },
  {
   "cell_type": "markdown",
   "id": "281da514-f744-4099-b470-679b9b8d8ffc",
   "metadata": {},
   "source": [
    "Some of the commonly used libraries used by Data Scientists include:\n",
    "\n",
    "1. NumPy\n",
    "2. Pandas\n",
    "3. Matplotlib\n",
    "4. Scikit-learn\n",
    "5. TensorFlow"
   ]
  },
  {
   "cell_type": "markdown",
   "id": "7561742d-569b-4f34-aab1-028aebbc39cf",
   "metadata": {},
   "source": [
    "| Data Sceince Tools |\n",
    "|--------------------|\n",
    "| Jupyter Notebooks |\n",
    "| RStudio |\n",
    "| Apache Zeppelin |\n"
   ]
  },
  {
   "cell_type": "markdown",
   "id": "61231f90-2427-4841-b8b0-bce308105d9d",
   "metadata": {},
   "source": [
    "### Below are a few examples of evaluating arithmetic expressions in Python"
   ]
  },
  {
   "cell_type": "code",
   "execution_count": 1,
   "id": "f9aa843c-2a0f-4fa4-a110-b4bca913a243",
   "metadata": {
    "tags": []
   },
   "outputs": [
    {
     "data": {
      "text/plain": [
       "17"
      ]
     },
     "execution_count": 1,
     "metadata": {},
     "output_type": "execute_result"
    }
   ],
   "source": [
    "# This is simple arithmetic expression to multiply then add integers\n",
    "\n",
    "result = (3*4)+5\n",
    "result\n"
   ]
  },
  {
   "cell_type": "code",
   "execution_count": 4,
   "id": "7650705f-ff37-4bbb-92f2-ee280b8c675d",
   "metadata": {
    "tags": []
   },
   "outputs": [
    {
     "data": {
      "text/plain": [
       "3.3333333333333335"
      ]
     },
     "execution_count": 4,
     "metadata": {},
     "output_type": "execute_result"
    }
   ],
   "source": [
    "# This will convert 200 minutes to hours by dividing by 60\n",
    "\n",
    "hours = 200/60\n",
    "hours"
   ]
  },
  {
   "cell_type": "markdown",
   "id": "b5f18bc2-1158-4647-b2fd-8867d7641da9",
   "metadata": {},
   "source": [
    "**Objectives:**\n",
    "\n",
    "- List popular languages for Data SCience\n",
    "- List Commonlu used libraries in Data Science\n",
    "- Create a table of Data Science tools\n",
    "- Provide examples of evaluating arithmatic expressions in Python\n",
    "- Convert units of measures(e.g., minutes to hours)"
   ]
  },
  {
   "cell_type": "markdown",
   "id": "51e53d99-1782-4293-9974-39c1c5177ee5",
   "metadata": {},
   "source": [
    "## Author\n",
    "\n",
    "Lavanya M"
   ]
  },
  {
   "cell_type": "code",
   "execution_count": null,
   "id": "bc1f9b15-2275-4cb8-90eb-1e27ad92e6ca",
   "metadata": {},
   "outputs": [],
   "source": []
  }
 ],
 "metadata": {
  "kernelspec": {
   "display_name": "Python",
   "language": "python",
   "name": "conda-env-python-py"
  },
  "language_info": {
   "codemirror_mode": {
    "name": "ipython",
    "version": 3
   },
   "file_extension": ".py",
   "mimetype": "text/x-python",
   "name": "python",
   "nbconvert_exporter": "python",
   "pygments_lexer": "ipython3",
   "version": "3.7.12"
  }
 },
 "nbformat": 4,
 "nbformat_minor": 5
}
